{
  "cells": [
    {
      "cell_type": "code",
      "source": [
        "#Q4\n",
        "#ANS.\n",
        "import random\n",
        "class game:\n",
        "    def card_game(self):\n",
        "        deck = list(range(1, 14))\n",
        "        selected_cards = random.sample(deck, 8)\n",
        "        print(\"Selected Cards (Hidden):\", selected_cards)  # You can hide this in real game\n",
        "\n",
        "        score = 0\n",
        "        current_card = selected_cards[0]\n",
        "        print(f\"Starting Card: {current_card}\")\n",
        "\n",
        "        for next_card in selected_cards[1:]:\n",
        "            guess = input(\"Will the next card be Higher (h) or Lower (l)? \").lower()\n",
        "\n",
        "            print(f\"Next Card is: {next_card}\")\n",
        "\n",
        "            if guess == \"h\":\n",
        "                if next_card > current_card:\n",
        "                    print(“Correct\")\n",
        "                    score += 20\n",
        "                else:\n",
        "                    print(\"Wrong\")\n",
        "                    score -= 15\n",
        "\n",
        "            elif guess == \"l\":\n",
        "                if next_card < current_card:\n",
        "                    print(\"correct\")\n",
        "                    score += 20\n",
        "                else:\n",
        "                    print(\"Wrong\")\n",
        "                    score -= 15\n",
        "\n",
        "            else:\n",
        "                print(\"invalid\")\n",
        "\n",
        "            current_card = next_card\n",
        "            print(f\"Current Score: {score}\\n\")\n",
        "\n",
        "        print(f\"Final Score: {score}\")\n",
        "\n",
        "\n",
        "o=game()\n",
        "o.card_game()\n"
      ],
      "metadata": {
        "id": "CsqyGCbsiM0x"
      },
      "id": "CsqyGCbsiM0x",
      "execution_count": null,
      "outputs": []
    },
    {
      "cell_type": "code",
      "source": [
        "#Q2: ANS.\n",
        "class vehical:\n",
        "    def fare(self,fare):\n",
        "        pass\n",
        "class bus(vehical):\n",
        "    def fare(self,fare):\n",
        "        return fare\n",
        "class car(vehical):\n",
        "    def fare(self,fare):\n",
        "        return fare\n",
        "class train(vehical):\n",
        "    def fare(self,fare):\n",
        "        return fare\n",
        "class ship(vehical):\n",
        "    def fare(self,fare):\n",
        "        return fare\n",
        "class truck(vehical):\n",
        "    def fare(self,fare):\n",
        "        return fare\n",
        "\n",
        "\n",
        "o=bus()\n",
        "a1=o.fare(300)\n",
        "o1=car()\n",
        "a2=o1.fare(309)\n",
        "o2=train()\n",
        "a3=o2.fare(7770)\n",
        "o3=ship()\n",
        "a4=o3.fare(3334)\n",
        "o5=truck()\n",
        "a5=o5.fare(889)\n",
        "\n",
        "totalfare=a1+a2+a3+a4+a5\n",
        "print(\"total fare is {} \".format(totalfare))\n"
      ],
      "metadata": {
        "id": "6rT0aEOSiU5R"
      },
      "id": "6rT0aEOSiU5R",
      "execution_count": null,
      "outputs": []
    },
    {
      "cell_type": "code",
      "source": [
        "#Q3. ANS.\n",
        "def Max_Score(M):\n",
        "    total_scores = {}\n",
        "    for match in M:\n",
        "        for player, score in M[match].items():\n",
        "            if player in total_scores:\n",
        "                total_scores[player] += score\n",
        "            else:\n",
        "                total_scores[player] = score\n",
        "\n",
        "\n",
        "    top_player = max(total_scores, key=total_scores.get)\n",
        "    top_score = total_scores[top_player]\n",
        "\n",
        "    return (top_player, top_score)"
      ],
      "metadata": {
        "id": "VUCMAIjbioOR"
      },
      "id": "VUCMAIjbioOR",
      "execution_count": null,
      "outputs": []
    },
    {
      "cell_type": "code",
      "source": [
        "#Q5. ANS.\n",
        "class dic:\n",
        "    def a(self):\n",
        "        dict={}\n",
        "        dict['x_pos']=10\n",
        "        dict['y_pos']=72\n",
        "        dict['speed']='medium'\n",
        "        dict['color']='red'\n",
        "        print(dict)\n",
        "        print(\"-----------------------------------------------------------\")\n",
        "        if dict['speed']=='slow':\n",
        "            dict['x_pos']+=2\n",
        "        elif dict['speed']=='medium':\n",
        "            dict['x_pos']+=9\n",
        "        elif dict['speed']=='fast':\n",
        "            dict['x_pos']+=22\n",
        "        else:\n",
        "            print(\"invalid\")\n",
        "        print(dict)\n",
        "\n",
        "\n",
        "o=dic()\n",
        "o.a()"
      ],
      "metadata": {
        "id": "7EXaRZxWkQga"
      },
      "id": "7EXaRZxWkQga",
      "execution_count": null,
      "outputs": []
    },
    {
      "cell_type": "code",
      "source": [
        "#Q6 ANS.\n",
        "class mother:\n",
        "    def __init__(self):\n",
        "        self.a=\"she is whole universe\"\n",
        "        self._b=\"She is great women\"\n",
        "        self.__c=\"she is cool women\"\n",
        "    def dis(self):\n",
        "        print(self.a)\n",
        "        print(self._b)\n",
        "        print(self.__c)\n",
        "class sister(mother):\n",
        "    def __init__(self):\n",
        "        super().__init__()\n",
        "        self.d=\"she is very brave\"\n",
        "    def dis(self):\n",
        "        print(self.d)\n",
        "\n",
        "o1=mother()\n",
        "o1.dis()\n",
        "o2=sister()\n",
        "o2.dis()"
      ],
      "metadata": {
        "id": "d9OS68flkHsq"
      },
      "id": "d9OS68flkHsq",
      "execution_count": null,
      "outputs": []
    },
    {
      "cell_type": "code",
      "source": [
        "#Q1.  ANS.\n",
        "from datetime import datetime\n",
        "\n",
        "class Employee:\n",
        "    def __init__(self):\n",
        "        self.EmployeeID = \"\"\n",
        "        self.Gender = \"\"\n",
        "        self.Salary = 0\n",
        "        self.PerformanceRating = 0\n",
        "\n",
        "    def get(self):\n",
        "        self.EmployeeID = input(\"Enter Employee ID: \")\n",
        "        self.Gender = input(\"Enter Gender: \")\n",
        "        self.Salary = int(input(\"Enter Salary: \"))\n",
        "        self.PerformanceRating = int(input(\"Enter Performance Rating (1-5): \"))\n",
        "\n",
        "\n",
        "class JoiningDetail:\n",
        "    def __init__(self):\n",
        "        self.DateOfJoining = None\n",
        "\n",
        "    def getDoJ(self):\n",
        "        date_str = input(\"Enter Date of Joining (dd-mm-yyyy): \")\n",
        "        self.DateOfJoining = datetime.strptime(date_str, \"%d-%m-%Y\").date()\n",
        "\n",
        "\n",
        "class Information(Employee, JoiningDetail):\n",
        "    def __init__(self):\n",
        "        Employee.__init__(self)\n",
        "        JoiningDetail.__init__(self)\n",
        "\n",
        "    def readData(self):\n",
        "        print(f\"EmployeeID: {self.EmployeeID}, Gender: {self.Gender}, \"\n",
        "              f\"Salary: {self.Salary}, Rating: {self.PerformanceRating}, \"\n",
        "              f\"DateOfJoining: {self.DateOfJoining}\")\n",
        "employees = []\n",
        "n = int(input(\"Enter number of employees: \"))\n",
        "\n",
        "for i in range(n):\n",
        "    emp = Information()\n",
        "    emp.get()\n",
        "    emp.getDoJ()\n",
        "    employees.append(emp)\n",
        "top_employees = sorted(employees, key=lambda e: e.PerformanceRating, reverse=True)[:3]\n",
        "top_employees.sort(key=lambda e: e.DateOfJoining)\n",
        "print(\"\\nTop 3 Employees based on Ratings (sorted by Date of Joining):\")\n",
        "for emp in top_employees:\n",
        "    emp.readData()"
      ],
      "metadata": {
        "id": "S-s8ELFBj42X"
      },
      "id": "S-s8ELFBj42X",
      "execution_count": null,
      "outputs": []
    },
    {
      "cell_type": "code",
      "source": [
        "#Q7   ANS.\n",
        "class mother:\n",
        "    def __init__(self):\n",
        "        self.a=\"she is whole universe\"\n",
        "        self._b=\"She is great women\"\n",
        "        self.__c=\"she is cool women\"\n",
        "    def dis(self):\n",
        "        print(self.a)\n",
        "        print(self._b)\n",
        "        print(self.__c)\n",
        "class sister(mother):\n",
        "    def __init__(self):\n",
        "        super().__init__()\n",
        "        self.d=\"she is very brave\"\n",
        "    def dis(self):\n",
        "        print(self.d)\n",
        "\n",
        "o1=mother()\n",
        "o1.dis()\n",
        "o2=sister()\n",
        "o2.dis()"
      ],
      "metadata": {
        "id": "i-FjmOqTjtiC"
      },
      "id": "i-FjmOqTjtiC",
      "execution_count": null,
      "outputs": []
    },
    {
      "cell_type": "code",
      "source": [
        "#Q8  ANS.\n",
        "l=list(range(1,51))\n",
        "a=map(lambda x:x*x,l)\n",
        "print(list(a))"
      ],
      "metadata": {
        "id": "ewQvcis5jld0"
      },
      "id": "ewQvcis5jld0",
      "execution_count": null,
      "outputs": []
    },
    {
      "cell_type": "code",
      "source": [
        "#Q9   ANS.\n",
        "class triangle:\n",
        "    def __init__(self,angle1,angle2,angle3):\n",
        "        self.angle1=angle1\n",
        "        self.angle2=angle2\n",
        "        self.angle3=angle3\n",
        "    def dis(self):\n",
        "        print(\"angle 1 is {}\".format(self.angle1))\n",
        "        print(\"angle 2 is {}\".format(self.angle2))\n",
        "        print(\"angle 3 is {}\".format(self.angle3))\n",
        "\n",
        "o=triangle(2,3,4)\n",
        "o.dis()\n",
        "\n",
        "Q10\n",
        "ANS.\n",
        "class a:\n",
        "    number_of_sides=3\n",
        "\n",
        "o=a()\n",
        "print(o.number_of_sides)"
      ],
      "metadata": {
        "id": "08PINgR3jbun"
      },
      "id": "08PINgR3jbun",
      "execution_count": null,
      "outputs": []
    },
    {
      "cell_type": "code",
      "source": [
        "#Q11  ANS.   i)\n",
        "class c:\n",
        "    def ca(self,a1,a2,a3):\n",
        "        su=sum([a1,a2,a3])\n",
        "        if su == 180:\n",
        "            return True\n",
        "        else:\n",
        "            return False\n",
        "        print(\"sum of angle is not straight line {}\".format(su))\n",
        "    def acute(self,a1,a2,a3):\n",
        "        su=sum([a1,a2,a3])\n",
        "        if su < 90:\n",
        "            print(\"acute\")\n",
        "        else:\n",
        "            print(\"not acute\")\n",
        "    def obtu(self,a1,a2,a3):\n",
        "        su=sum([a1,a2,a3])\n",
        "        if su > 90 and su < 180:\n",
        "            print(\"obtuse\")\n",
        "        else:\n",
        "            print(\"not obtuse\")\n",
        "\n",
        "o=c()\n",
        "o.ca(20,30,50)\n",
        "o.acute(20,30,50)\n",
        "o.obtu(20,30,50)\n",
        "\n",
        "ii)\n",
        "class tri:\n",
        "    def __init__(self,a,b,c):\n",
        "        self.a=a\n",
        "        self.b=b\n",
        "        self.c=c\n",
        "    def dis(self):\n",
        "        print(\"I am parent\")\n",
        "class iso(tri):\n",
        "    def __init__(self,a,b,c):\n",
        "        super(). __init__(a,b,c)\n",
        "        if (a == b and b!=c) or (b == c and c!=a) or (a ==c and c!=b):\n",
        "            print(\"isosalus\")\n",
        "        else:\n",
        "            print(\"not isosalus\")\n",
        "class eq(tri):\n",
        "    def __init__(self,a,b,c):\n",
        "        if a == b and b == c and c == a:\n",
        "            print(\"equilateral\")\n",
        "        else:\n",
        "            print(\"not equi\")\n",
        "class ri(tri):\n",
        "    def __init__(self,a,b,c):\n",
        "        super().__init__(a,b,c)\n",
        "        s=sorted([a,b,c])\n",
        "        if s[0]**2+s[1]**2 == s[2]**2:\n",
        "            print(\"right angle tri\")\n",
        "        else:\n",
        "            print(\"not a tri\")\n",
        "\n",
        "\n",
        "o=ri(3,4,5)\n",
        "o2=eq(6,6,6)\n",
        "o3=iso(4,4,8)"
      ],
      "metadata": {
        "id": "OCkDDp9vjNDa"
      },
      "id": "OCkDDp9vjNDa",
      "execution_count": null,
      "outputs": []
    },
    {
      "cell_type": "code",
      "source": [
        "#Q12 ANS.\n",
        "class iso:\n",
        "    def isos(self,a,b,c):\n",
        "        return (a == b and b!=c) or (b == c and c!=a) or (c == a and a!=b)\n",
        "\n",
        "class rig:\n",
        "    def right(self,a,b,c):\n",
        "        s=sorted([a,b,c])\n",
        "        return s[0]**2 == s[1]**2 + s[2]**2\n",
        "class riso(iso,rig):\n",
        "    def rigiso(self,a,b,c):\n",
        "        if self.isos(a,b,c) and self.right(a,b,c):\n",
        "            print(\"isosceles_right_triangle\")\n",
        "        elif self.isos(a,b,c):\n",
        "            print(\"isosceles_triangle \")\n",
        "        elif self.right(a,b,c):\n",
        "            print(\"right_triangle\")\n",
        "        else:\n",
        "            print(\"Invalid\")\n",
        "\n",
        "o=riso()\n",
        "o.rigiso(20,20,30)"
      ],
      "metadata": {
        "id": "uLN7Nfy0ioKz"
      },
      "id": "uLN7Nfy0ioKz",
      "execution_count": null,
      "outputs": []
    },
    {
      "cell_type": "code",
      "source": [],
      "metadata": {
        "id": "Nre1cOeXioIa"
      },
      "id": "Nre1cOeXioIa",
      "execution_count": null,
      "outputs": []
    },
    {
      "cell_type": "code",
      "source": [],
      "metadata": {
        "id": "d0fdzo-2ioFo"
      },
      "id": "d0fdzo-2ioFo",
      "execution_count": null,
      "outputs": []
    },
    {
      "cell_type": "code",
      "source": [],
      "metadata": {
        "id": "50n26SuAioC7"
      },
      "id": "50n26SuAioC7",
      "execution_count": null,
      "outputs": []
    },
    {
      "cell_type": "code",
      "source": [],
      "metadata": {
        "id": "DR1UrUJgioAH"
      },
      "id": "DR1UrUJgioAH",
      "execution_count": null,
      "outputs": []
    },
    {
      "cell_type": "code",
      "source": [],
      "metadata": {
        "id": "eMDwQYKYin9S"
      },
      "id": "eMDwQYKYin9S",
      "execution_count": null,
      "outputs": []
    },
    {
      "cell_type": "code",
      "source": [],
      "metadata": {
        "id": "M9POg2PDin6M"
      },
      "id": "M9POg2PDin6M",
      "execution_count": null,
      "outputs": []
    },
    {
      "cell_type": "code",
      "source": [],
      "metadata": {
        "id": "4DudaIFYin3J"
      },
      "id": "4DudaIFYin3J",
      "execution_count": null,
      "outputs": []
    },
    {
      "cell_type": "code",
      "source": [],
      "metadata": {
        "id": "bMiWdaeSin0N"
      },
      "id": "bMiWdaeSin0N",
      "execution_count": null,
      "outputs": []
    },
    {
      "cell_type": "code",
      "source": [],
      "metadata": {
        "id": "HQd-S7ZUinw8"
      },
      "id": "HQd-S7ZUinw8",
      "execution_count": null,
      "outputs": []
    },
    {
      "cell_type": "code",
      "source": [],
      "metadata": {
        "id": "hL6tC38FinnT"
      },
      "id": "hL6tC38FinnT",
      "execution_count": null,
      "outputs": []
    }
  ],
  "metadata": {
    "kernelspec": {
      "display_name": "Python 3",
      "name": "python3"
    },
    "language_info": {
      "name": "python"
    },
    "required_libs": [],
    "colab": {
      "provenance": []
    }
  },
  "nbformat": 4,
  "nbformat_minor": 5
}